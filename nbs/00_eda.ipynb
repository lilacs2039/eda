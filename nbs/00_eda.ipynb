{
 "cells": [
  {
   "cell_type": "code",
   "execution_count": null,
   "metadata": {},
   "outputs": [],
   "source": [
    "# default_exp eda\n",
    "\n",
    "#メモ：ユーザが直接使う上位レイヤ。coreは低レイヤっぽい名前だったので避けた。"
   ]
  },
  {
   "cell_type": "markdown",
   "metadata": {},
   "source": [
    "# lileda.eda\n",
    "\n",
    "> 探索的データ分析（EDA）で便利に使える関数を集めたモジュール。  \n",
    "> liledaは、基本的に本モジュールだけimportして使用する。"
   ]
  },
  {
   "cell_type": "code",
   "execution_count": null,
   "metadata": {},
   "outputs": [],
   "source": [
    "#hide\n",
    "from nbdev.showdoc import *"
   ]
  },
  {
   "cell_type": "code",
   "execution_count": null,
   "metadata": {},
   "outputs": [],
   "source": [
    "#export\n",
    "\n",
    "from tqdm import tqdm\n",
    "import os\n",
    "from contextlib import redirect_stdout\n",
    "from pathlib import Path\n",
    "import numpy as np\n",
    "import pandas as pd\n",
    "import matplotlib.pyplot as plt\n",
    "import seaborn as sns\n",
    "from IPython.display import display"
   ]
  },
  {
   "cell_type": "code",
   "execution_count": null,
   "metadata": {},
   "outputs": [],
   "source": [
    "#export\n",
    "#hide\n",
    "\n",
    "# ローカル変数 --------------------------------------\n",
    "_save_dir = Path(\"./output\")  # プロットの自動保存ディレクトリ\n",
    "            \n",
    "## ローカル関数 --------------------------------------\n",
    "\n",
    "pass"
   ]
  },
  {
   "cell_type": "markdown",
   "metadata": {},
   "source": [
    "# 備考：動作確認用データ"
   ]
  },
  {
   "cell_type": "markdown",
   "metadata": {},
   "source": [
    "データ分析の定番モジュールの読み込み"
   ]
  },
  {
   "cell_type": "code",
   "execution_count": null,
   "metadata": {},
   "outputs": [],
   "source": [
    "%matplotlib inline\n",
    "%reload_ext autoreload\n",
    "%autoreload 2\n",
    "import pandas as pd\n",
    "import matplotlib.pyplot as plt\n",
    "import seaborn as sns"
   ]
  },
  {
   "cell_type": "markdown",
   "metadata": {},
   "source": [
    "データ（iris）をdfとして読み込み"
   ]
  },
  {
   "cell_type": "code",
   "execution_count": null,
   "metadata": {},
   "outputs": [
    {
     "data": {
      "text/html": [
       "<div>\n",
       "<style scoped>\n",
       "    .dataframe tbody tr th:only-of-type {\n",
       "        vertical-align: middle;\n",
       "    }\n",
       "\n",
       "    .dataframe tbody tr th {\n",
       "        vertical-align: top;\n",
       "    }\n",
       "\n",
       "    .dataframe thead th {\n",
       "        text-align: right;\n",
       "    }\n",
       "</style>\n",
       "<table border=\"1\" class=\"dataframe\">\n",
       "  <thead>\n",
       "    <tr style=\"text-align: right;\">\n",
       "      <th></th>\n",
       "      <th>sepal length (cm)</th>\n",
       "      <th>sepal width (cm)</th>\n",
       "      <th>petal length (cm)</th>\n",
       "      <th>petal width (cm)</th>\n",
       "      <th>target</th>\n",
       "    </tr>\n",
       "  </thead>\n",
       "  <tbody>\n",
       "    <tr>\n",
       "      <th>0</th>\n",
       "      <td>5.1</td>\n",
       "      <td>3.5</td>\n",
       "      <td>1.4</td>\n",
       "      <td>0.2</td>\n",
       "      <td>0</td>\n",
       "    </tr>\n",
       "  </tbody>\n",
       "</table>\n",
       "</div>"
      ],
      "text/plain": [
       "   sepal length (cm)  sepal width (cm)  petal length (cm)  petal width (cm)  \\\n",
       "0                5.1               3.5                1.4               0.2   \n",
       "\n",
       "  target  \n",
       "0      0  "
      ]
     },
     "execution_count": null,
     "metadata": {},
     "output_type": "execute_result"
    }
   ],
   "source": [
    "from sklearn.datasets import load_iris\n",
    "iris = load_iris()\n",
    "df = pd.DataFrame(iris.data, columns=iris.feature_names).merge(\n",
    "    pd.DataFrame(iris.target).rename(columns={0:\"target\"})\n",
    "    , left_index=True, right_index=True\n",
    ")\n",
    "df.target = df.target.astype(\"category\")\n",
    "df.head(1)"
   ]
  },
  {
   "cell_type": "markdown",
   "metadata": {},
   "source": [
    "# グローバル関数"
   ]
  },
  {
   "cell_type": "markdown",
   "metadata": {},
   "source": [
    "#hide\n",
    "## setup"
   ]
  },
  {
   "cell_type": "code",
   "execution_count": null,
   "metadata": {},
   "outputs": [
    {
     "name": "stdout",
     "output_type": "stream",
     "text": [
      "lileda> 出力フォルダ : '/mnt/e/Users/Chilly/Documents/OneDrive/Codes/Jupyter/lileda/nbs/output'\n",
      "/mnt/e/Users/Chilly/Documents/OneDrive/Codes/Jupyter/lileda/nbs/fonts\n",
      "os.getcwd() : /mnt/e/Users/Chilly/Documents/OneDrive/Codes/Jupyter/lileda/nbs\n",
      "lileda> matplotlibに日本語フォント「IPAexGothic」を設定しました\n"
     ]
    }
   ],
   "source": [
    "#export\n",
    "import matplotlib\n",
    "from matplotlib import font_manager\n",
    "from distutils.version import LooseVersion\n",
    "def setup(sub_dir = \"\", save_dir = \"output\"):\n",
    "    \"\"\"ライブラリの初期設定をする。\n",
    "    \"\"\"\n",
    "    \n",
    "    # --------------  グラフサイズ設定パラメータ  -----------------------\n",
    "    size_inch, size_px = 15, 2000  #15, 2000が基本。(15,800)も可能（保存したグラフは見切れる）　　colabは、グラフの横幅[px]が画面の横幅[px]を超えると縮小表示、満たないときはそのままグラフ表示する。\n",
    "\n",
    "    # 横幅（インチ）を指定したときに、指定pxとなるようなDPIを計算。\n",
    "    # Jupyter表示時はインチ単位指定だが、ファイル保存時はpx単位になるため。\n",
    "    _h_inch = size_inch * 9/16\n",
    "    _dpi = int(size_px / size_inch)\n",
    "    _fontsize = size_inch * 2  # 15インチ・2kpxなら30px, 5インチ・2kpxなら10px　でちょうどよかった。\n",
    "    # グラフのデフォルト設定。 ↑と同一セルだと初期化がうまくいかなかった。\n",
    "    sns.set_style(style=\"whitegrid\")\n",
    "    plt.rcParams.update({\n",
    "      'font.size' : _fontsize\n",
    "      ,'font.family' : 'Meiryo' if os.name == 'nt' else ''  # Colabでは日本語フォントがインストールされてないので注意\n",
    "      ,'figure.figsize' : [size_inch, _h_inch]  #[20.0, 10.0]\n",
    "      ,'figure.dpi' : _dpi  #300\n",
    "      ,'savefig.dpi' : _dpi\n",
    "      ,'figure.titlesize' : 'large'\n",
    "      ,'legend.fontsize' : 'small'\n",
    "      ,'axes.labelsize' : 'medium'\n",
    "      ,'xtick.labelsize' : 'small'\n",
    "      ,'ytick.labelsize' : 'small'\n",
    "      })\n",
    "    global _save_dir\n",
    "    _save_dir = Path(save_dir)/sub_dir  #).resolve()\n",
    "    print(f\"lileda> 出力フォルダ : '{_save_dir.resolve()}'\")\n",
    "    \n",
    "    # matplotlibに日本語フォントのインストール ------------------------------\n",
    "    # 参考：https://github.com/uehara1414/japanize-matplotlib/blob/master/japanize_matplotlib/japanize_matplotlib.py\n",
    "    FONTS_DIR = 'fonts'\n",
    "    FONT_NAME = \"IPAexGothic\"\n",
    "    FONT_TTF = 'ipaexg.ttf'\n",
    "\n",
    "    font_dir_path = (Path()/\"lileda\"/FONTS_DIR).resolve()  # インストール時：Path()/lileda/FONTS_DIR  開発時：Path()/FONTS_DIR　　インストール時にフォント読み込み成功するように設定。\n",
    "    print(f\"os.getcwd() : {os.getcwd()}\")\n",
    "    font_files = font_manager.findSystemFonts(fontpaths=[font_dir_path])\n",
    "    is_support_createFontList = LooseVersion(matplotlib.__version__) < '3.2'\n",
    "    if is_support_createFontList:\n",
    "        font_list = font_manager.createFontList(font_files)\n",
    "        font_manager.fontManager.ttflist.extend(font_list)\n",
    "    else:\n",
    "        for fpath in font_files:\n",
    "            font_manager.fontManager.addfont(fpath)\n",
    "    matplotlib.rc('font', family=FONT_NAME)\n",
    "    print(f\"lileda> matplotlibに日本語フォント「{FONT_NAME}」を設定しました\")\n",
    "\n",
    "# モジュールを読込んだ時に、デフォルト値で初期設定する。printの出力は捨てる。　with redirect_stdout(open(os.devnull, 'w')):\n",
    "setup()\n"
   ]
  },
  {
   "cell_type": "code",
   "execution_count": null,
   "metadata": {},
   "outputs": [
    {
     "data": {
      "text/plain": [
       "'/mnt/e/Users/Chilly/Documents/OneDrive/Codes/Jupyter/lileda/nbs'"
      ]
     },
     "execution_count": null,
     "metadata": {},
     "output_type": "execute_result"
    }
   ],
   "source": [
    "os.getcwd()"
   ]
  },
  {
   "cell_type": "code",
   "execution_count": null,
   "metadata": {},
   "outputs": [],
   "source": [
    "#hide\n",
    "# テスト：pltにパラメータが反映されているか\n",
    "\n",
    "a = dict(plt.rcParams)             # a:actual. pyplotの設定値（辞書形式）\n",
    "e = {'figure.titlesize' : 'large'\n",
    "    ,'legend.fontsize' : 'small'\n",
    "    , 'font.family' : ['IPAexGothic'] }  # e:expected. 期待値\n",
    "assert {k:a[k] for k in e.keys() if k in a} == e"
   ]
  },
  {
   "cell_type": "markdown",
   "metadata": {},
   "source": [
    "**Parameters**\n",
    "- sub_dir : str\n",
    "  - プロットの自動保存先のディレクトリ。\n"
   ]
  },
  {
   "cell_type": "markdown",
   "metadata": {},
   "source": [
    "**使用例１）デフォルトの保存先を確認**"
   ]
  },
  {
   "cell_type": "code",
   "execution_count": null,
   "metadata": {},
   "outputs": [
    {
     "data": {
      "text/plain": [
       "Path('output')"
      ]
     },
     "execution_count": null,
     "metadata": {},
     "output_type": "execute_result"
    }
   ],
   "source": [
    "_save_dir"
   ]
  },
  {
   "cell_type": "markdown",
   "metadata": {},
   "source": [
    "**使用例２）出力先フォルダを切り替え**"
   ]
  },
  {
   "cell_type": "code",
   "execution_count": null,
   "metadata": {},
   "outputs": [
    {
     "name": "stdout",
     "output_type": "stream",
     "text": [
      "lileda> 出力フォルダ : '/mnt/e/Users/Chilly/Documents/OneDrive/Codes/Jupyter/lileda/nbs/output/case1'\n",
      "lileda> matplotlibに日本語フォント「IPAexGothic」を設定しました\n"
     ]
    }
   ],
   "source": [
    "setup(sub_dir=\"case1\")"
   ]
  },
  {
   "cell_type": "markdown",
   "metadata": {},
   "source": [
    "#hide\n",
    "## describe"
   ]
  },
  {
   "cell_type": "code",
   "execution_count": null,
   "metadata": {},
   "outputs": [],
   "source": [
    "#export\n",
    "def describe(df):\n",
    "    \"\"\"DataFrameの要約（統計量や欠損値の数など）を表示する。\n",
    "    \"\"\"\n",
    "    print(\"データ形式\")\n",
    "    data = df.head(1).copy()\n",
    "    data.rename(index={0:\"0\"}, inplace=True)\n",
    "    dtype_row = pd.DataFrame(data.dtypes).T\n",
    "    dtype_row.rename(index={0:\"dtype\"}, inplace=True)\n",
    "    data = pd.concat([data, dtype_row])\n",
    "    \n",
    "    display(data)\n",
    "    def my_describe(_df):\n",
    "        smry = _df.describe()\n",
    "        smry.loc[\"欠損数\"] = _df.isna().sum()\n",
    "        smry.loc[\"欠損率\"] = smry.loc[\"欠損数\"] / df.index.size * 100\n",
    "        display(smry.round(3))\n",
    "\n",
    "    if df.select_dtypes('number').columns.size !=0:\n",
    "        print(\"要約統計量（数値）\")\n",
    "        my_describe(df.select_dtypes('number'))\n",
    "    if df.select_dtypes(exclude='number').columns.size !=0:\n",
    "        print(\"要約統計量（数値以外）\")\n",
    "        my_describe(df.select_dtypes(exclude='number'))\n",
    "\n"
   ]
  },
  {
   "cell_type": "markdown",
   "metadata": {},
   "source": [
    "**Parameters**\n",
    "- df : pandas.DataFrame\n",
    "  - 表示対象のDataFrameインスタンス。\n"
   ]
  },
  {
   "cell_type": "markdown",
   "metadata": {},
   "source": [
    "**実行例**"
   ]
  },
  {
   "cell_type": "code",
   "execution_count": null,
   "metadata": {},
   "outputs": [
    {
     "name": "stdout",
     "output_type": "stream",
     "text": [
      "データ形式\n"
     ]
    },
    {
     "data": {
      "text/html": [
       "<div>\n",
       "<style scoped>\n",
       "    .dataframe tbody tr th:only-of-type {\n",
       "        vertical-align: middle;\n",
       "    }\n",
       "\n",
       "    .dataframe tbody tr th {\n",
       "        vertical-align: top;\n",
       "    }\n",
       "\n",
       "    .dataframe thead th {\n",
       "        text-align: right;\n",
       "    }\n",
       "</style>\n",
       "<table border=\"1\" class=\"dataframe\">\n",
       "  <thead>\n",
       "    <tr style=\"text-align: right;\">\n",
       "      <th></th>\n",
       "      <th>sepal length (cm)</th>\n",
       "      <th>sepal width (cm)</th>\n",
       "      <th>petal length (cm)</th>\n",
       "      <th>petal width (cm)</th>\n",
       "      <th>target</th>\n",
       "    </tr>\n",
       "  </thead>\n",
       "  <tbody>\n",
       "    <tr>\n",
       "      <th>0</th>\n",
       "      <td>5.1</td>\n",
       "      <td>3.5</td>\n",
       "      <td>1.4</td>\n",
       "      <td>0.2</td>\n",
       "      <td>0</td>\n",
       "    </tr>\n",
       "    <tr>\n",
       "      <th>dtype</th>\n",
       "      <td>float64</td>\n",
       "      <td>float64</td>\n",
       "      <td>float64</td>\n",
       "      <td>float64</td>\n",
       "      <td>category</td>\n",
       "    </tr>\n",
       "  </tbody>\n",
       "</table>\n",
       "</div>"
      ],
      "text/plain": [
       "      sepal length (cm) sepal width (cm) petal length (cm) petal width (cm)  \\\n",
       "0                   5.1              3.5               1.4              0.2   \n",
       "dtype           float64          float64           float64          float64   \n",
       "\n",
       "         target  \n",
       "0             0  \n",
       "dtype  category  "
      ]
     },
     "metadata": {},
     "output_type": "display_data"
    },
    {
     "name": "stdout",
     "output_type": "stream",
     "text": [
      "要約統計量（数値）\n"
     ]
    },
    {
     "data": {
      "text/html": [
       "<div>\n",
       "<style scoped>\n",
       "    .dataframe tbody tr th:only-of-type {\n",
       "        vertical-align: middle;\n",
       "    }\n",
       "\n",
       "    .dataframe tbody tr th {\n",
       "        vertical-align: top;\n",
       "    }\n",
       "\n",
       "    .dataframe thead th {\n",
       "        text-align: right;\n",
       "    }\n",
       "</style>\n",
       "<table border=\"1\" class=\"dataframe\">\n",
       "  <thead>\n",
       "    <tr style=\"text-align: right;\">\n",
       "      <th></th>\n",
       "      <th>sepal length (cm)</th>\n",
       "      <th>sepal width (cm)</th>\n",
       "      <th>petal length (cm)</th>\n",
       "      <th>petal width (cm)</th>\n",
       "    </tr>\n",
       "  </thead>\n",
       "  <tbody>\n",
       "    <tr>\n",
       "      <th>count</th>\n",
       "      <td>150.000</td>\n",
       "      <td>150.000</td>\n",
       "      <td>150.000</td>\n",
       "      <td>150.000</td>\n",
       "    </tr>\n",
       "    <tr>\n",
       "      <th>mean</th>\n",
       "      <td>5.843</td>\n",
       "      <td>3.057</td>\n",
       "      <td>3.758</td>\n",
       "      <td>1.199</td>\n",
       "    </tr>\n",
       "    <tr>\n",
       "      <th>std</th>\n",
       "      <td>0.828</td>\n",
       "      <td>0.436</td>\n",
       "      <td>1.765</td>\n",
       "      <td>0.762</td>\n",
       "    </tr>\n",
       "    <tr>\n",
       "      <th>min</th>\n",
       "      <td>4.300</td>\n",
       "      <td>2.000</td>\n",
       "      <td>1.000</td>\n",
       "      <td>0.100</td>\n",
       "    </tr>\n",
       "    <tr>\n",
       "      <th>25%</th>\n",
       "      <td>5.100</td>\n",
       "      <td>2.800</td>\n",
       "      <td>1.600</td>\n",
       "      <td>0.300</td>\n",
       "    </tr>\n",
       "    <tr>\n",
       "      <th>50%</th>\n",
       "      <td>5.800</td>\n",
       "      <td>3.000</td>\n",
       "      <td>4.350</td>\n",
       "      <td>1.300</td>\n",
       "    </tr>\n",
       "    <tr>\n",
       "      <th>75%</th>\n",
       "      <td>6.400</td>\n",
       "      <td>3.300</td>\n",
       "      <td>5.100</td>\n",
       "      <td>1.800</td>\n",
       "    </tr>\n",
       "    <tr>\n",
       "      <th>max</th>\n",
       "      <td>7.900</td>\n",
       "      <td>4.400</td>\n",
       "      <td>6.900</td>\n",
       "      <td>2.500</td>\n",
       "    </tr>\n",
       "    <tr>\n",
       "      <th>欠損数</th>\n",
       "      <td>0.000</td>\n",
       "      <td>0.000</td>\n",
       "      <td>0.000</td>\n",
       "      <td>0.000</td>\n",
       "    </tr>\n",
       "    <tr>\n",
       "      <th>欠損率</th>\n",
       "      <td>0.000</td>\n",
       "      <td>0.000</td>\n",
       "      <td>0.000</td>\n",
       "      <td>0.000</td>\n",
       "    </tr>\n",
       "  </tbody>\n",
       "</table>\n",
       "</div>"
      ],
      "text/plain": [
       "       sepal length (cm)  sepal width (cm)  petal length (cm)  \\\n",
       "count            150.000           150.000            150.000   \n",
       "mean               5.843             3.057              3.758   \n",
       "std                0.828             0.436              1.765   \n",
       "min                4.300             2.000              1.000   \n",
       "25%                5.100             2.800              1.600   \n",
       "50%                5.800             3.000              4.350   \n",
       "75%                6.400             3.300              5.100   \n",
       "max                7.900             4.400              6.900   \n",
       "欠損数                0.000             0.000              0.000   \n",
       "欠損率                0.000             0.000              0.000   \n",
       "\n",
       "       petal width (cm)  \n",
       "count           150.000  \n",
       "mean              1.199  \n",
       "std               0.762  \n",
       "min               0.100  \n",
       "25%               0.300  \n",
       "50%               1.300  \n",
       "75%               1.800  \n",
       "max               2.500  \n",
       "欠損数               0.000  \n",
       "欠損率               0.000  "
      ]
     },
     "metadata": {},
     "output_type": "display_data"
    },
    {
     "name": "stdout",
     "output_type": "stream",
     "text": [
      "要約統計量（数値以外）\n"
     ]
    },
    {
     "data": {
      "text/html": [
       "<div>\n",
       "<style scoped>\n",
       "    .dataframe tbody tr th:only-of-type {\n",
       "        vertical-align: middle;\n",
       "    }\n",
       "\n",
       "    .dataframe tbody tr th {\n",
       "        vertical-align: top;\n",
       "    }\n",
       "\n",
       "    .dataframe thead th {\n",
       "        text-align: right;\n",
       "    }\n",
       "</style>\n",
       "<table border=\"1\" class=\"dataframe\">\n",
       "  <thead>\n",
       "    <tr style=\"text-align: right;\">\n",
       "      <th></th>\n",
       "      <th>target</th>\n",
       "    </tr>\n",
       "  </thead>\n",
       "  <tbody>\n",
       "    <tr>\n",
       "      <th>count</th>\n",
       "      <td>150.0</td>\n",
       "    </tr>\n",
       "    <tr>\n",
       "      <th>unique</th>\n",
       "      <td>3.0</td>\n",
       "    </tr>\n",
       "    <tr>\n",
       "      <th>top</th>\n",
       "      <td>0.0</td>\n",
       "    </tr>\n",
       "    <tr>\n",
       "      <th>freq</th>\n",
       "      <td>50.0</td>\n",
       "    </tr>\n",
       "    <tr>\n",
       "      <th>欠損数</th>\n",
       "      <td>0.0</td>\n",
       "    </tr>\n",
       "    <tr>\n",
       "      <th>欠損率</th>\n",
       "      <td>0.0</td>\n",
       "    </tr>\n",
       "  </tbody>\n",
       "</table>\n",
       "</div>"
      ],
      "text/plain": [
       "        target\n",
       "count    150.0\n",
       "unique     3.0\n",
       "top        0.0\n",
       "freq      50.0\n",
       "欠損数        0.0\n",
       "欠損率        0.0"
      ]
     },
     "metadata": {},
     "output_type": "display_data"
    }
   ],
   "source": [
    "describe(df)"
   ]
  },
  {
   "cell_type": "code",
   "execution_count": null,
   "metadata": {},
   "outputs": [],
   "source": [
    "#export\n",
    "def savepath(filename):\n",
    "    \"\"\"保存先の絶対パスを返す。\n",
    "    \"\"\"\n",
    "    _suffix = \"\"\n",
    "    if Path(filename).suffix == '' : _suffix = \".png\"\n",
    "    p = _save_dir/f\"{filename}{_suffix}\"\n",
    "    p.parent.mkdir(parents=True, exist_ok=True)\n",
    "    return p.resolve()\n"
   ]
  },
  {
   "cell_type": "markdown",
   "metadata": {},
   "source": [
    "**Parameters**\n",
    "- filename : str\n",
    "  - 保存したいファイル名\n"
   ]
  },
  {
   "cell_type": "markdown",
   "metadata": {},
   "source": [
    "**利用例**"
   ]
  },
  {
   "cell_type": "code",
   "execution_count": null,
   "metadata": {},
   "outputs": [
    {
     "data": {
      "text/plain": [
       "Path('/mnt/e/Users/Chilly/Documents/OneDrive/Codes/Jupyter/lileda/nbs/output/case1/image01.png')"
      ]
     },
     "execution_count": null,
     "metadata": {},
     "output_type": "execute_result"
    }
   ],
   "source": [
    "savepath(\"image01\")"
   ]
  },
  {
   "cell_type": "markdown",
   "metadata": {},
   "source": [
    "#hide\n",
    "## plot"
   ]
  },
  {
   "cell_type": "code",
   "execution_count": null,
   "metadata": {},
   "outputs": [],
   "source": [
    "#export\n",
    "def plot(ax_grid, tl=None, xl=None, yl=None, xtl=None, savename=None, ld_out=False):\n",
    "    \"\"\"matplotlibやseabornのグラフにタイトル・軸ラベルを設定し、フォントサイズ・グラフサイズを調整して、画像ファイルとして保存する。\n",
    "    \"\"\"\n",
    "    fig=None\n",
    "    if isinstance(ax_grid, plt.Axes):\n",
    "        # seabornのAxesレベル関数か、pyplotで生成したグラフの場合\n",
    "        ax = ax_grid\n",
    "        fig = ax.figure\n",
    "        if tl is not None : ax.set_title(tl)\n",
    "        if xl is not None : ax.set_xlabel(xl)\n",
    "        if yl is not None : ax.set_ylabel(yl)\n",
    "        if xtl is not None : ax.set(xtickLabels = xtl)\n",
    "        if ld_out : ax.legend(loc=\"upper left\", bbox_to_anchor=(1,1))  # 凡例をグラフ枠の外側へ配置\n",
    "    elif isinstance(ax_grid,  (sns.FacetGrid, sns.PairGrid, sns.JointGrid, sns.pairplot, sns.jointplot)):\n",
    "        # seaborn のfigureレベル関数で生成したグラフの場合\n",
    "        g = ax_grid\n",
    "        fig = g.fig\n",
    "        # g.fig.set_figheight(size_inch);  g.fig.set_figwidth(size_inch)  # figsizeの修正。あとから修正すると余白やタイトル位置が変になるので、面倒だがグラフ生成のたびにheightで指定することにした。\n",
    "        if tl is not None : \n",
    "            # タイトルを追加するときは、そのまま追加するとファイル保存したときにタイトルが見切れるので、\n",
    "            # グラフを縦に90%に縮めてタイトルを設置\n",
    "            g.fig.subplots_adjust(top=0.9)\n",
    "            g.fig.suptitle(tl)  #, y=1.02\n",
    "        ax = g.fig.axes[0] #Gridに対しては、最初のAxesにだけラベル名変更などの操作をする\n",
    "        if xl is not None : ax.set_xlabel(xl)\n",
    "        if yl is not None : ax.set_ylabel(yl)\n",
    "        if xtl is not None : ax.set(xtickLabels = xtl)\n",
    "        if ld_out : ax.legend(loc=\"upper left\", bbox_to_anchor=(1,1))  # 凡例をグラフ枠の外側へ配置\n",
    "    # save figure\n",
    "    p = _save_dir; p.mkdir(parents=True, exist_ok=True)\n",
    "    if savename is not None : fig.savefig(savepath(savename))\n",
    "    elif tl is not None : fig.savefig(savepath(tl))"
   ]
  },
  {
   "cell_type": "markdown",
   "metadata": {},
   "source": [
    "**Parameters**\n",
    "- ax_grid : Union[plt.Axes, sns.FacetGrid, sns.PairGrid, sns.JointGrid, sns.pairplot, sns.jointplot]\n",
    "  - 処理対象のmatplotlib・seabornグラフ\n",
    "- tl : str\n",
    "  - タイトル文字列\n",
    "- xl : str\n",
    "  - x軸ラベル\n",
    "- yl : str\n",
    "  - y軸ラベル\n",
    "- xtl : ?\n",
    "  - x軸の目盛りラベル\n",
    "- ld_out : bool\n",
    "  - trueのとき、凡例をグラフ枠の外側へ配置する。\n",
    "\n",
    "Note:figsizeとtitleのy位置について\n",
    "- figsizeの指定の仕方によってtitle位置の設定のされ方が違う\n",
    "- figsizeをsns.jointplot(height=15)のように指定するなら、「, y=1.02」を追加\n",
    "  - seabornはfigsize指定がpltとは別になっているのでheightパラメータを使う。\n",
    "  - https://qiita.com/nj_ryoo0/items/9105ddfdf1b08b58398e"
   ]
  },
  {
   "cell_type": "markdown",
   "metadata": {},
   "source": [
    "**実行例**"
   ]
  },
  {
   "cell_type": "code",
   "execution_count": null,
   "metadata": {},
   "outputs": [
    {
     "data": {
      "image/png": "[encoded data removed]",
      "text/plain": [
       "<Figure size 1995x1122.19 with 2 Axes>"
      ]
     },
     "metadata": {},
     "output_type": "display_data"
    }
   ],
   "source": [
    "plot(df.plot.scatter(\"sepal length (cm)\",\"sepal width (cm)\",c=\"target\")\n",
    "        ,tl=\"散布図\", xl=\"がく長さ[cm]\", yl=\"がく幅[cm]\")"
   ]
  },
  {
   "cell_type": "code",
   "execution_count": null,
   "metadata": {},
   "outputs": [],
   "source": []
  },
  {
   "cell_type": "code",
   "execution_count": null,
   "metadata": {},
   "outputs": [
    {
     "data": {
      "text/html": [
       "<div>\n",
       "<style scoped>\n",
       "    .dataframe tbody tr th:only-of-type {\n",
       "        vertical-align: middle;\n",
       "    }\n",
       "\n",
       "    .dataframe tbody tr th {\n",
       "        vertical-align: top;\n",
       "    }\n",
       "\n",
       "    .dataframe thead th {\n",
       "        text-align: right;\n",
       "    }\n",
       "</style>\n",
       "<table border=\"1\" class=\"dataframe\">\n",
       "  <thead>\n",
       "    <tr style=\"text-align: right;\">\n",
       "      <th></th>\n",
       "      <th>sepal length (cm)</th>\n",
       "      <th>sepal width (cm)</th>\n",
       "      <th>petal length (cm)</th>\n",
       "      <th>petal width (cm)</th>\n",
       "      <th>target</th>\n",
       "    </tr>\n",
       "  </thead>\n",
       "  <tbody>\n",
       "    <tr>\n",
       "      <th>0</th>\n",
       "      <td>5.1</td>\n",
       "      <td>3.5</td>\n",
       "      <td>1.4</td>\n",
       "      <td>0.2</td>\n",
       "      <td>0</td>\n",
       "    </tr>\n",
       "    <tr>\n",
       "      <th>1</th>\n",
       "      <td>4.9</td>\n",
       "      <td>3.0</td>\n",
       "      <td>1.4</td>\n",
       "      <td>0.2</td>\n",
       "      <td>0</td>\n",
       "    </tr>\n",
       "    <tr>\n",
       "      <th>2</th>\n",
       "      <td>4.7</td>\n",
       "      <td>3.2</td>\n",
       "      <td>1.3</td>\n",
       "      <td>0.2</td>\n",
       "      <td>0</td>\n",
       "    </tr>\n",
       "    <tr>\n",
       "      <th>3</th>\n",
       "      <td>4.6</td>\n",
       "      <td>3.1</td>\n",
       "      <td>1.5</td>\n",
       "      <td>0.2</td>\n",
       "      <td>0</td>\n",
       "    </tr>\n",
       "    <tr>\n",
       "      <th>4</th>\n",
       "      <td>5.0</td>\n",
       "      <td>3.6</td>\n",
       "      <td>1.4</td>\n",
       "      <td>0.2</td>\n",
       "      <td>0</td>\n",
       "    </tr>\n",
       "    <tr>\n",
       "      <th>...</th>\n",
       "      <td>...</td>\n",
       "      <td>...</td>\n",
       "      <td>...</td>\n",
       "      <td>...</td>\n",
       "      <td>...</td>\n",
       "    </tr>\n",
       "    <tr>\n",
       "      <th>145</th>\n",
       "      <td>6.7</td>\n",
       "      <td>3.0</td>\n",
       "      <td>5.2</td>\n",
       "      <td>2.3</td>\n",
       "      <td>2</td>\n",
       "    </tr>\n",
       "    <tr>\n",
       "      <th>146</th>\n",
       "      <td>6.3</td>\n",
       "      <td>2.5</td>\n",
       "      <td>5.0</td>\n",
       "      <td>1.9</td>\n",
       "      <td>2</td>\n",
       "    </tr>\n",
       "    <tr>\n",
       "      <th>147</th>\n",
       "      <td>6.5</td>\n",
       "      <td>3.0</td>\n",
       "      <td>5.2</td>\n",
       "      <td>2.0</td>\n",
       "      <td>2</td>\n",
       "    </tr>\n",
       "    <tr>\n",
       "      <th>148</th>\n",
       "      <td>6.2</td>\n",
       "      <td>3.4</td>\n",
       "      <td>5.4</td>\n",
       "      <td>2.3</td>\n",
       "      <td>2</td>\n",
       "    </tr>\n",
       "    <tr>\n",
       "      <th>149</th>\n",
       "      <td>5.9</td>\n",
       "      <td>3.0</td>\n",
       "      <td>5.1</td>\n",
       "      <td>1.8</td>\n",
       "      <td>2</td>\n",
       "    </tr>\n",
       "  </tbody>\n",
       "</table>\n",
       "<p>150 rows × 5 columns</p>\n",
       "</div>"
      ],
      "text/plain": [
       "     sepal length (cm)  sepal width (cm)  petal length (cm)  petal width (cm)  \\\n",
       "0                  5.1               3.5                1.4               0.2   \n",
       "1                  4.9               3.0                1.4               0.2   \n",
       "2                  4.7               3.2                1.3               0.2   \n",
       "3                  4.6               3.1                1.5               0.2   \n",
       "4                  5.0               3.6                1.4               0.2   \n",
       "..                 ...               ...                ...               ...   \n",
       "145                6.7               3.0                5.2               2.3   \n",
       "146                6.3               2.5                5.0               1.9   \n",
       "147                6.5               3.0                5.2               2.0   \n",
       "148                6.2               3.4                5.4               2.3   \n",
       "149                5.9               3.0                5.1               1.8   \n",
       "\n",
       "    target  \n",
       "0        0  \n",
       "1        0  \n",
       "2        0  \n",
       "3        0  \n",
       "4        0  \n",
       "..     ...  \n",
       "145      2  \n",
       "146      2  \n",
       "147      2  \n",
       "148      2  \n",
       "149      2  \n",
       "\n",
       "[150 rows x 5 columns]"
      ]
     },
     "execution_count": null,
     "metadata": {},
     "output_type": "execute_result"
    }
   ],
   "source": [
    "df"
   ]
  },
  {
   "cell_type": "code",
   "execution_count": null,
   "metadata": {},
   "outputs": [
    {
     "data": {
      "text/plain": [
       "<AxesSubplot:xlabel='がく長さ'>"
      ]
     },
     "execution_count": null,
     "metadata": {},
     "output_type": "execute_result"
    },
    {
     "data": {
      "image/png": "[encoded data removed]",
      "text/plain": [
       "<Figure size 1995x1122.19 with 1 Axes>"
      ]
     },
     "metadata": {},
     "output_type": "display_data"
    }
   ],
   "source": [
    "fig, ax = plt.subplots()\n",
    "ax.scatter(df[\"sepal length (cm)\"],df[\"sepal width (cm)\"])\n",
    "ax.set_xlabel(\"がく長さ\")\n",
    "ax"
   ]
  },
  {
   "cell_type": "code",
   "execution_count": null,
   "metadata": {},
   "outputs": [],
   "source": []
  },
  {
   "cell_type": "code",
   "execution_count": null,
   "metadata": {},
   "outputs": [],
   "source": []
  },
  {
   "cell_type": "code",
   "execution_count": null,
   "metadata": {},
   "outputs": [],
   "source": []
  },
  {
   "cell_type": "code",
   "execution_count": null,
   "metadata": {},
   "outputs": [
    {
     "name": "stdout",
     "output_type": "stream",
     "text": [
      "Converted 00_eda.ipynb.\n",
      "Converted index.ipynb.\n"
     ]
    }
   ],
   "source": [
    "#hide\n",
    "# nbdev エクスポート\n",
    "from nbdev.export import notebook2script; notebook2script()"
   ]
  }
 ],
 "metadata": {
  "kernelspec": {
   "display_name": "Python 3 (ipykernel)",
   "language": "python",
   "name": "python3"
  }
 },
 "nbformat": 4,
 "nbformat_minor": 4
}
